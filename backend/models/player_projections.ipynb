{
 "cells": [
  {
   "cell_type": "markdown",
   "metadata": {},
   "source": [
    "In this notebook, I am projecting NHL skater and goalie stats for the 2024-2025 season, using PyTorch and deep learning. Although this does not take into account the full scope of factors, such as teammate quality, zone deployment, injuries, and other factors, hopefully it still gives solid predictions.\n",
    "\n",
    "I am not taking into account upcoming rookies, and not projecting players for the 2023-2024 season that did not meet a certain game threshold, regardless of reason. Additionally, some players will also retire or have had other circumstances (RIP Johnny Gaudreau), but these players will still be projected regardless."
   ]
  },
  {
   "cell_type": "markdown",
   "metadata": {},
   "source": [
    "Set this up the same as the other classifier, making sure to have good preprocessing"
   ]
  },
  {
   "cell_type": "markdown",
   "metadata": {},
   "source": [
    "Adding points projections from model to SQL database"
   ]
  }
 ],
 "metadata": {
  "language_info": {
   "name": "python"
  }
 },
 "nbformat": 4,
 "nbformat_minor": 2
}
